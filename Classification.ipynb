{
 "cells": [
  {
   "cell_type": "markdown",
   "metadata": {
    "collapsed": true
   },
   "source": [
    "# 分類\n",
    "\n",
    "##對象\n",
    "\n",
    "鳶尾花\n",
    "\n",
    "![](https://www.itprotoday.com/sites/itprotoday.com/files/styles/article_featured_retina/public/ai-kishore%20kumar.jpg?itok=zEACWRA3)\n",
    "\n",
    "[請點我](https://www.google.com)\n",
    "\n",
    "$ Area = \\frac{1}{2} \\times \\pi r^2  $"
   ]
  },
  {
   "cell_type": "code",
   "execution_count": null,
   "metadata": {},
   "outputs": [],
   "source": []
  }
 ],
 "metadata": {
  "kernelspec": {
   "display_name": "Python 3",
   "language": "python",
   "name": "python3"
  },
  "language_info": {
   "codemirror_mode": {
    "name": "ipython",
    "version": 3
   },
   "file_extension": ".py",
   "mimetype": "text/x-python",
   "name": "python",
   "nbconvert_exporter": "python",
   "pygments_lexer": "ipython3",
   "version": "3.7.4"
  }
 },
 "nbformat": 4,
 "nbformat_minor": 1
}
